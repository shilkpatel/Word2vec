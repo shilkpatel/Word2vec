{
 "cells": [
  {
   "cell_type": "code",
   "execution_count": 1,
   "metadata": {},
   "outputs": [],
   "source": [
    "data=[]\n",
    "with open('C:/Users/shilp/OneDrive/Desktop/New Github/Word2vec/dataset/5114.txt','r') as file:\n",
    "    data=file.read()\n",
    "\n",
    "data=data.split('\\n')"
   ]
  },
  {
   "cell_type": "code",
   "execution_count": 2,
   "metadata": {},
   "outputs": [],
   "source": [
    "for i in range(len(data)):\n",
    "    data[i]=data[i].split(' ')"
   ]
  },
  {
   "cell_type": "code",
   "execution_count": 3,
   "metadata": {},
   "outputs": [],
   "source": [
    "for i in range(len(data)):\n",
    "    for j in range(len(data[i])):\n",
    "        data[i][j]=data[i][j].lower()"
   ]
  },
  {
   "cell_type": "code",
   "execution_count": 4,
   "metadata": {},
   "outputs": [
    {
     "data": {
      "text/plain": [
       "['slashdot',\n",
       " 'raises',\n",
       " 'lots',\n",
       " 'of',\n",
       " 'urllink',\n",
       " 'interesting',\n",
       " 'thoughts',\n",
       " 'about',\n",
       " 'banner',\n",
       " 'ads',\n",
       " 'the',\n",
       " 'idea',\n",
       " 'is',\n",
       " 'to',\n",
       " 'let',\n",
       " 'users',\n",
       " 'control',\n",
       " 'the',\n",
       " 'ad',\n",
       " 'delivery',\n",
       " 'and',\n",
       " 'even',\n",
       " 'to',\n",
       " 'allow',\n",
       " 'users',\n",
       " 'to',\n",
       " 'comment',\n",
       " 'on',\n",
       " 'ads']"
      ]
     },
     "execution_count": 4,
     "metadata": {},
     "output_type": "execute_result"
    }
   ],
   "source": [
    "data[0]"
   ]
  },
  {
   "cell_type": "code",
   "execution_count": 5,
   "metadata": {},
   "outputs": [],
   "source": [
    "dataset=[]"
   ]
  },
  {
   "cell_type": "code",
   "execution_count": 6,
   "metadata": {},
   "outputs": [],
   "source": [
    "for i in data:\n",
    "    \n",
    "    for j in range(len(i)):\n",
    "        main=i[j]\n",
    "        back_2=j-2\n",
    "        back_1=j-1\n",
    "        forward_1=j+1\n",
    "        forward_2=j+2\n",
    "\n",
    "        if back_2>=0:\n",
    "            dataset.append((main,i[back_2],'1'))\n",
    "            dataset.append((main,i[back_1],'1'))\n",
    "        elif back_1>=0 and back_2<0:\n",
    "            dataset.append((main,i[back_1],'1'))\n",
    "\n",
    "        if forward_2<=(len(i)-1):\n",
    "            dataset.append((main,i[forward_2],'1'))\n",
    "            dataset.append((main,i[forward_1],'1'))\n",
    "        elif forward_1<=(len(i)-1) and forward_2>(len(i)-1):\n",
    "            dataset.append((main,i[forward_1],'1'))\n",
    "        "
   ]
  },
  {
   "cell_type": "code",
   "execution_count": 7,
   "metadata": {},
   "outputs": [],
   "source": [
    "for i in data:\n",
    "    for j in range(len(i)):\n",
    "        if len(i)>4:\n",
    "            dataset.append((i[j],i[j-3],'0'))\n",
    "        elif len(i)>6:\n",
    "            dataset.append((i[j],i[j-5],'0'))\n",
    "    "
   ]
  },
  {
   "cell_type": "code",
   "execution_count": 16,
   "metadata": {},
   "outputs": [
    {
     "data": {
      "text/plain": [
       "('mindjack', 'blog', '0')"
      ]
     },
     "execution_count": 16,
     "metadata": {},
     "output_type": "execute_result"
    }
   ],
   "source": [
    "dataset[36211]"
   ]
  },
  {
   "cell_type": "code",
   "execution_count": 8,
   "metadata": {},
   "outputs": [],
   "source": [
    "file=[]\n",
    "for i in dataset:\n",
    "    file.append(','.join(i))"
   ]
  },
  {
   "cell_type": "code",
   "execution_count": 10,
   "metadata": {},
   "outputs": [],
   "source": [
    "file='\\n'.join(file)"
   ]
  },
  {
   "cell_type": "code",
   "execution_count": 13,
   "metadata": {},
   "outputs": [],
   "source": [
    "with open('C:/Users/shilp/OneDrive/Desktop/New Github/Word2vec/clean_data/5114.txt','w') as data_file:\n",
    "    data_file.write(file)"
   ]
  }
 ],
 "metadata": {
  "kernelspec": {
   "display_name": "Python 3",
   "language": "python",
   "name": "python3"
  },
  "language_info": {
   "codemirror_mode": {
    "name": "ipython",
    "version": 3
   },
   "file_extension": ".py",
   "mimetype": "text/x-python",
   "name": "python",
   "nbconvert_exporter": "python",
   "pygments_lexer": "ipython3",
   "version": "3.11.3"
  },
  "orig_nbformat": 4
 },
 "nbformat": 4,
 "nbformat_minor": 2
}
