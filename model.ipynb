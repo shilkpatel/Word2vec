{
 "cells": [
  {
   "cell_type": "code",
   "execution_count": 1,
   "metadata": {},
   "outputs": [],
   "source": [
    "import random\n",
    "import word2vec"
   ]
  },
  {
   "cell_type": "code",
   "execution_count": 2,
   "metadata": {},
   "outputs": [],
   "source": [
    "number_of_embedding=300"
   ]
  },
  {
   "cell_type": "code",
   "execution_count": 3,
   "metadata": {},
   "outputs": [],
   "source": [
    "data=[]\n",
    "with open('C:/Users/shilp/OneDrive/Desktop/New Github/Word2vec/dataset/5114.txt','r') as file:\n",
    "    data=file.read()\n",
    "\n",
    "data=data.split('\\n')\n",
    "\n",
    "dictionary={}\n",
    "\n",
    "for i in range(len(data)):\n",
    "    data[i]=data[i].split(' ')\n",
    "\n",
    "for i in data:\n",
    "    for j in i:\n",
    "        dictionary[j.lower()]=[[random.random() for k in range(number_of_embedding)] for l in range(2)]"
   ]
  },
  {
   "cell_type": "code",
   "execution_count": 4,
   "metadata": {},
   "outputs": [],
   "source": [
    "training_data=[]\n",
    "with open('C:/Users/shilp/OneDrive/Desktop/New Github/Word2vec/clean_data/5114.txt','r') as file:\n",
    "    training_data=file.read()\n",
    "\n",
    "training_data=training_data.split('\\n')\n",
    "for i in range(len(training_data)):\n",
    "    training_data[i]=training_data[i].split(',')\n"
   ]
  },
  {
   "cell_type": "code",
   "execution_count": 5,
   "metadata": {},
   "outputs": [],
   "source": [
    "test_model=word2vec.word2vec(dictionary,number_of_embedding)"
   ]
  },
  {
   "cell_type": "code",
   "execution_count": 6,
   "metadata": {},
   "outputs": [],
   "source": [
    "trainer=word2vec.trainer(0.001,test_model)"
   ]
  },
  {
   "cell_type": "code",
   "execution_count": 9,
   "metadata": {},
   "outputs": [
    {
     "name": "stdout",
     "output_type": "stream",
     "text": [
      "average_error 0.1\n",
      "average_error 0.4\n",
      "average_error 0.0\n",
      "average_error 0.1\n"
     ]
    }
   ],
   "source": [
    "trainer.epoch(training_data,10)\n",
    "trainer.epoch(training_data,10)\n",
    "trainer.epoch(training_data,10)\n",
    "trainer.epoch(training_data,10)"
   ]
  }
 ],
 "metadata": {
  "kernelspec": {
   "display_name": "Python 3",
   "language": "python",
   "name": "python3"
  },
  "language_info": {
   "codemirror_mode": {
    "name": "ipython",
    "version": 3
   },
   "file_extension": ".py",
   "mimetype": "text/x-python",
   "name": "python",
   "nbconvert_exporter": "python",
   "pygments_lexer": "ipython3",
   "version": "3.11.3"
  },
  "orig_nbformat": 4
 },
 "nbformat": 4,
 "nbformat_minor": 2
}
